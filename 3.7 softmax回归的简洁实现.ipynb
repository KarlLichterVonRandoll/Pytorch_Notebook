{
 "cells": [
  {
   "cell_type": "markdown",
   "id": "12318235",
   "metadata": {},
   "source": [
    "使用pytorch实现一个softmax回归模型"
   ]
  },
  {
   "cell_type": "code",
   "execution_count": 1,
   "id": "bd63f748",
   "metadata": {},
   "outputs": [],
   "source": [
    "import torch\n",
    "from torch import nn\n",
    "from torch.nn import init\n",
    "import numpy as np\n",
    "import sys\n",
    "import d2lzh_pytorch as d2l    "
   ]
  },
  {
   "cell_type": "markdown",
   "id": "4e145562",
   "metadata": {},
   "source": [
    "# 3.7.1 获取和读取数据\n",
    "仍使用Fashion-MNIST数据集，批量大小为 256"
   ]
  },
  {
   "cell_type": "code",
   "execution_count": 2,
   "id": "23c345ea",
   "metadata": {},
   "outputs": [],
   "source": [
    "batch_size = 256\n",
    "train_iter, test_iter = d2l.load_data_fashion_mnist(batch_size)"
   ]
  },
  {
   "cell_type": "markdown",
   "id": "cf5646ea",
   "metadata": {},
   "source": [
    "# 3.7.2 定义和初始化模型\n",
    "softmax回归的输出层是一个全连接层，我们用一个线性模块就可以了，因为前面我们数据返回的每个batch样本 x 的形状是(batch_size, 1, 28, 28)，所以先用 view() 将 x 的形状转换成(batch_size, 784)才送入全连接层。"
   ]
  },
  {
   "cell_type": "code",
   "execution_count": 3,
   "id": "a1313cf4",
   "metadata": {},
   "outputs": [],
   "source": [
    "num_inputs = 784\n",
    "num_outputs = 10\n",
    "\n",
    "class LinearNet(nn.Module):\n",
    "    def __init__(self, num_inputs, num_outputs):\n",
    "        super(LinearNet, self).__init__()\n",
    "        self.linear = nn.Linear(num_inputs, num_outputs)\n",
    "        \n",
    "    def forward(self, x): # x shape：(batch, 1, 28, 28)\n",
    "        y = self.linear(x.view(x.shape[0], -1))\n",
    "        return y\n",
    "    \n",
    "net = LinearNet(num_inputs, num_outputs)"
   ]
  },
  {
   "cell_type": "markdown",
   "id": "aa81c35c",
   "metadata": {},
   "source": [
    "我们将对 x 的形状转换的这个功能自定义一个 FLattenLayer 并记录在 d2lzh_pytorch 中方便后面使用"
   ]
  },
  {
   "cell_type": "code",
   "execution_count": 4,
   "id": "753e2825",
   "metadata": {},
   "outputs": [],
   "source": [
    "# 本函数已保存在 d2lzh_pytorch 包中方便以后使用\n",
    "class FlattenLayer(nn.Module):\n",
    "    def __init__(self):\n",
    "        super(FlattenLayer, self).__init__()\n",
    "    def forward(self, x): # x shape: (batch, *, *, ...)\n",
    "        return x.view(x.shape[0], -1)"
   ]
  },
  {
   "cell_type": "markdown",
   "id": "4f186812",
   "metadata": {},
   "source": [
    "这样我们就可以更方便的定义我们的模型了"
   ]
  },
  {
   "cell_type": "code",
   "execution_count": 5,
   "id": "d8b74d09",
   "metadata": {},
   "outputs": [],
   "source": [
    "from collections import OrderedDict\n",
    "\n",
    "net = nn.Sequential(\n",
    "    # FlattenLayer()\n",
    "    # nn.Linear(num_inputs,num_outputs)\n",
    "    OrderedDict([\n",
    "        ('flatten', FlattenLayer()),\n",
    "        ('linear', nn.Linear(num_inputs, num_outputs))\n",
    "    ])\n",
    ")"
   ]
  },
  {
   "cell_type": "markdown",
   "id": "d30d78f0",
   "metadata": {},
   "source": [
    "使用均值为 0、标准差为 0.01的正态分布随机初始化模型的权重参数"
   ]
  },
  {
   "cell_type": "code",
   "execution_count": 6,
   "id": "fae23515",
   "metadata": {},
   "outputs": [
    {
     "data": {
      "text/plain": [
       "Parameter containing:\n",
       "tensor([0., 0., 0., 0., 0., 0., 0., 0., 0., 0.], requires_grad=True)"
      ]
     },
     "execution_count": 6,
     "metadata": {},
     "output_type": "execute_result"
    }
   ],
   "source": [
    "init.normal_(net.linear.weight, mean=0, std=0.01)\n",
    "init.constant_(net.linear.bias, val=0)"
   ]
  },
  {
   "cell_type": "code",
   "execution_count": null,
   "id": "dca38abb",
   "metadata": {},
   "outputs": [],
   "source": []
  }
 ],
 "metadata": {
  "kernelspec": {
   "display_name": "Python 3",
   "language": "python",
   "name": "python3"
  },
  "language_info": {
   "codemirror_mode": {
    "name": "ipython",
    "version": 3
   },
   "file_extension": ".py",
   "mimetype": "text/x-python",
   "name": "python",
   "nbconvert_exporter": "python",
   "pygments_lexer": "ipython3",
   "version": "3.8.8"
  }
 },
 "nbformat": 4,
 "nbformat_minor": 5
}
