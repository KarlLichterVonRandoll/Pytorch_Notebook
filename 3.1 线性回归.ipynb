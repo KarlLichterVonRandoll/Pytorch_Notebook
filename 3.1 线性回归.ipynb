{
 "cells": [
  {
   "cell_type": "markdown",
   "metadata": {},
   "source": [
    "# 3.1 线性回归"
   ]
  },
  {
   "cell_type": "markdown",
   "metadata": {},
   "source": [
    "### 3.1.2.2 矢量计算表达式"
   ]
  },
  {
   "cell_type": "code",
   "execution_count": 1,
   "metadata": {},
   "outputs": [],
   "source": [
    "import torch\n",
    "from time import time"
   ]
  },
  {
   "cell_type": "code",
   "execution_count": 3,
   "metadata": {},
   "outputs": [
    {
     "name": "stdout",
     "output_type": "stream",
     "text": [
      "向量相加一种方法是，将两个向量按元素逐一做标量加法\n",
      "\n",
      "0.0312502384185791\n",
      "\n",
      "另一种方法是，将这两个向量直接做矢量加法\n",
      "\n",
      "0.0\n",
      "\n",
      "由此可见矢量计算可极大提升计算效率\n"
     ]
    }
   ],
   "source": [
    "a = torch.ones(1000)\n",
    "b = torch.ones(1000)\n",
    "\n",
    "print(\"向量相加一种方法是，将两个向量按元素逐一做标量加法\\n\")\n",
    "start = time()\n",
    "c = torch.zeros(1000)\n",
    "for i in range(1000):\n",
    "    c[i] = a[i] + b[i]\n",
    "print(time() - start)\n",
    "\n",
    "print(\"\\n另一种方法是，将这两个向量直接做矢量加法\\n\")\n",
    "start = time()\n",
    "d = a + b\n",
    "print(time() - start)\n",
    "print(\"\\n由此可见矢量计算可极大提升计算效率\")"
   ]
  },
  {
   "cell_type": "code",
   "execution_count": null,
   "metadata": {},
   "outputs": [],
   "source": []
  },
  {
   "cell_type": "code",
   "execution_count": null,
   "metadata": {},
   "outputs": [],
   "source": []
  }
 ],
 "metadata": {
  "kernelspec": {
   "display_name": "Python 3",
   "language": "python",
   "name": "python3"
  },
  "language_info": {
   "codemirror_mode": {
    "name": "ipython",
    "version": 3
   },
   "file_extension": ".py",
   "mimetype": "text/x-python",
   "name": "python",
   "nbconvert_exporter": "python",
   "pygments_lexer": "ipython3",
   "version": "3.8.5"
  }
 },
 "nbformat": 4,
 "nbformat_minor": 4
}
