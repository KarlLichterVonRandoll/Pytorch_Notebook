{
 "cells": [
  {
   "cell_type": "markdown",
   "id": "ecbd36c8",
   "metadata": {},
   "source": [
    "# 4.5 读取和存储\n",
    "到目前为止，我们介绍了如何处理数据以及如何构建、训练和测试深度学习模型。然而在实际中，我们有时需要把训练好的模型部署到很多不同的设备。在这种情况下，我们可以把内存中训练好的模型参数存储在硬盘上供后续读取使用。"
   ]
  },
  {
   "cell_type": "markdown",
   "id": "af55d432",
   "metadata": {},
   "source": [
    "## 4.5.1 读写Tensor\n",
    "我们可以直接使用save函数和load函数分别存储和读取Tensor。save使用Python的pickle实用程序将对象进行序列化，然后将序列化的对象保存到disk，使用save可以保存各种对象,包括模型、张量和字典等。而load使用pickle unpickle工具将pickle的对象文件反序列化为内存。\n",
    "\n",
    "下面的例子创建了Tensor变量x，并将其存在文件名同为x.pt的文件里。"
   ]
  },
  {
   "cell_type": "code",
   "execution_count": 1,
   "id": "8b21e4f1",
   "metadata": {},
   "outputs": [],
   "source": [
    "import torch\n",
    "from torch import nn\n",
    "\n",
    "x = torch.ones(3)\n",
    "torch.save(x, 'x.pt')"
   ]
  },
  {
   "cell_type": "markdown",
   "id": "a78bd9fa",
   "metadata": {},
   "source": [
    "然后将数据从存储的文件读回内存"
   ]
  },
  {
   "cell_type": "code",
   "execution_count": 2,
   "id": "4394b250",
   "metadata": {},
   "outputs": [
    {
     "data": {
      "text/plain": [
       "tensor([1., 1., 1.])"
      ]
     },
     "execution_count": 2,
     "metadata": {},
     "output_type": "execute_result"
    }
   ],
   "source": [
    "x2 = torch.load('x.pt')\n",
    "x2"
   ]
  },
  {
   "cell_type": "markdown",
   "id": "cbbfda92",
   "metadata": {},
   "source": [
    "还可以存储一个Tensor列表并读回内存。"
   ]
  },
  {
   "cell_type": "code",
   "execution_count": 3,
   "id": "c5f7115d",
   "metadata": {},
   "outputs": [
    {
     "data": {
      "text/plain": [
       "[tensor([1., 1., 1.]), tensor([0., 0., 0., 0.])]"
      ]
     },
     "execution_count": 3,
     "metadata": {},
     "output_type": "execute_result"
    }
   ],
   "source": [
    "y = torch.zeros(4)\n",
    "torch.save([x, y], 'xy.pt')\n",
    "xy_list = torch.load('xy.pt')\n",
    "xy_list"
   ]
  },
  {
   "cell_type": "markdown",
   "id": "a762c407",
   "metadata": {},
   "source": [
    "存储并读取一个从字符串映射到Tensor的字典。"
   ]
  },
  {
   "cell_type": "code",
   "execution_count": 4,
   "id": "e3cecbbb",
   "metadata": {},
   "outputs": [
    {
     "data": {
      "text/plain": [
       "{'x': tensor([1., 1., 1.]), 'y': tensor([0., 0., 0., 0.])}"
      ]
     },
     "execution_count": 4,
     "metadata": {},
     "output_type": "execute_result"
    }
   ],
   "source": [
    "torch.save({'x': x, 'y': y}, 'xy_dict.pt')\n",
    "xy = torch.load('xy_dict.pt')\n",
    "xy"
   ]
  },
  {
   "cell_type": "markdown",
   "id": "504949d0",
   "metadata": {},
   "source": [
    "## 4.5.2 读写模型\n",
    "\n",
    "### 4.5.2.1 state_dict\n",
    "在PyTorch中，Module的可学习参数(即权重和偏差)，模块模型包含在参数中(通过model.parameters()访问)。state_dict是一个从参数名称隐射到参数Tesnor的字典对象。"
   ]
  },
  {
   "cell_type": "code",
   "execution_count": 5,
   "id": "4a70bf8f",
   "metadata": {},
   "outputs": [
    {
     "data": {
      "text/plain": [
       "OrderedDict([('hidden.weight',\n",
       "              tensor([[ 0.5541,  0.0239, -0.0205],\n",
       "                      [-0.2028, -0.1006, -0.1398]])),\n",
       "             ('hidden.bias', tensor([-0.0081, -0.4176])),\n",
       "             ('output.weight', tensor([[-0.1319, -0.3015]])),\n",
       "             ('output.bias', tensor([-0.6557]))])"
      ]
     },
     "execution_count": 5,
     "metadata": {},
     "output_type": "execute_result"
    }
   ],
   "source": [
    "class MLP(nn.Module):\n",
    "    def __init__(self):\n",
    "        super(MLP, self).__init__()\n",
    "        self.hidden = nn.Linear(3, 2)\n",
    "        self.act = nn.ReLU()\n",
    "        self.output = nn.Linear(2, 1)\n",
    "        \n",
    "    def forward(self, x):\n",
    "        a = self.act(self.hidden(x))\n",
    "        return self.output(a)\n",
    "    \n",
    "net = MLP()\n",
    "net.state_dict()"
   ]
  },
  {
   "cell_type": "markdown",
   "id": "967cd0fc",
   "metadata": {},
   "source": [
    "注意，只有具有可学习参数的层(卷积层、线性层等)才有state_dict中的条目。优化器(optim)也有一个state_dict，其中包含关于优化器状态以及所使用的超参数的信息。"
   ]
  },
  {
   "cell_type": "code",
   "execution_count": 7,
   "id": "17be73b6",
   "metadata": {},
   "outputs": [
    {
     "data": {
      "text/plain": [
       "{'state': {},\n",
       " 'param_groups': [{'lr': 0.001,\n",
       "   'momentum': 0.9,\n",
       "   'dampening': 0,\n",
       "   'weight_decay': 0,\n",
       "   'nesterov': False,\n",
       "   'params': [0, 1, 2, 3]}]}"
      ]
     },
     "execution_count": 7,
     "metadata": {},
     "output_type": "execute_result"
    }
   ],
   "source": [
    "optimizer = torch.optim.SGD(net.parameters(), lr=0.001, momentum=0.9)\n",
    "optimizer.state_dict()"
   ]
  },
  {
   "cell_type": "markdown",
   "id": "96501668",
   "metadata": {},
   "source": [
    "### 4.5.2.2 保存和加载模型\n",
    "PyTorch中保存和加载训练模型有两种常见的方法:\n",
    "1. 仅保存和加载模型参数（state_dict）;\n",
    "2. 保存和加载整个模型\n",
    "\n",
    "### 1. 保存和加载state_dict(推荐方式)\n",
    "保存：\n",
    "\n",
    "> torch.save(model.state_dict(), PATH)  # 推荐的文件后缀名是pt或pth\n",
    "\n",
    "加载：\n",
    "\n",
    "> model = TheModelClass(\\*args, \\*\\*kwargs)\n",
    "\n",
    "> model.load_state_dict(torch.load(PATH))\n",
    "\n",
    "### 2. 保存和加载整个模型\n",
    "保存：\n",
    "\n",
    "> torch.save(model, PATH)\n",
    "\n",
    "加载：\n",
    "\n",
    "> model = torch.load(PATH)"
   ]
  },
  {
   "cell_type": "markdown",
   "id": "372e25fd",
   "metadata": {},
   "source": [
    "采用推荐的方法一来实验一下:"
   ]
  },
  {
   "cell_type": "code",
   "execution_count": 8,
   "id": "2432d3a4",
   "metadata": {},
   "outputs": [
    {
     "data": {
      "text/plain": [
       "tensor([[True],\n",
       "        [True]])"
      ]
     },
     "execution_count": 8,
     "metadata": {},
     "output_type": "execute_result"
    }
   ],
   "source": [
    "X = torch.randn(2, 3)\n",
    "Y = net(X)\n",
    "\n",
    "PATH = \"./net.pt\"\n",
    "torch.save(net.state_dict(), PATH)\n",
    "\n",
    "net2 = MLP()\n",
    "net2.load_state_dict(torch.load(PATH))\n",
    "Y2 = net2(X)\n",
    "Y2 == Y"
   ]
  },
  {
   "cell_type": "markdown",
   "id": "cec6a4ec",
   "metadata": {},
   "source": [
    "因为这net和net2都有同样的模型参数，那么对同一个输入X的计算结果将会是一样的。上面的输出也验证了这一点。\n",
    "\n",
    "此外，还有一些其他使用场景，例如GPU与CPU之间的模型保存与读取、使用多块GPU的模型的存储等等"
   ]
  },
  {
   "cell_type": "markdown",
   "id": "b6c6161e",
   "metadata": {},
   "source": [
    "# 小结\n",
    "* 通过save函数和load函数可以很方便地读写Tensor。\n",
    "* 通过save函数和load_state_dict函数可以很方便地读写模型的参数。"
   ]
  },
  {
   "cell_type": "code",
   "execution_count": null,
   "id": "7a23c3b4",
   "metadata": {},
   "outputs": [],
   "source": []
  }
 ],
 "metadata": {
  "kernelspec": {
   "display_name": "Python 3",
   "language": "python",
   "name": "python3"
  },
  "language_info": {
   "codemirror_mode": {
    "name": "ipython",
    "version": 3
   },
   "file_extension": ".py",
   "mimetype": "text/x-python",
   "name": "python",
   "nbconvert_exporter": "python",
   "pygments_lexer": "ipython3",
   "version": "3.8.8"
  }
 },
 "nbformat": 4,
 "nbformat_minor": 5
}
