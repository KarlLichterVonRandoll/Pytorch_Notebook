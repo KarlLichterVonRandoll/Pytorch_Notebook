{
 "cells": [
  {
   "cell_type": "markdown",
   "id": "83876cf7",
   "metadata": {},
   "source": [
    "# 3.9 多层感知机的从零开始实现"
   ]
  },
  {
   "cell_type": "code",
   "execution_count": 1,
   "id": "b5edfa74",
   "metadata": {},
   "outputs": [],
   "source": [
    "import torch\n",
    "import numpy as np\n",
    "import d2lzh_pytorch as d2l"
   ]
  },
  {
   "cell_type": "markdown",
   "id": "2a51f8cb",
   "metadata": {},
   "source": [
    "## 3.9.1 获取和读取数据集"
   ]
  },
  {
   "cell_type": "code",
   "execution_count": 2,
   "id": "d4d14b8a",
   "metadata": {},
   "outputs": [],
   "source": [
    "batch_size = 256\n",
    "train_iter, test_iter = d2l.load_data_fashion_mnist(batch_size)"
   ]
  },
  {
   "cell_type": "markdown",
   "id": "2f30b0af",
   "metadata": {},
   "source": [
    "##  3.9.2 定义模型参数\n",
    "这里依然使用长度为28x28=784的向量表示每一张图像，因此，输入个数为784，输出个数为10，实验中，我们设置超参数隐藏单元个数为256"
   ]
  },
  {
   "cell_type": "code",
   "execution_count": 5,
   "id": "8214bbf8",
   "metadata": {},
   "outputs": [],
   "source": [
    "num_inputs, num_outputs, num_hiddens = 784, 10, 256\n",
    "\n",
    "W1 = torch.tensor(np.random.normal(0, 0.01, (num_inputs, num_hiddens)), dtype=torch.float)\n",
    "b1 = torch.zeros(num_hiddens, dtype=torch.float)\n",
    "W2 = torch.tensor(np.random.normal(0, 0.01, (num_hiddens, num_outputs)), dtype=torch.float)\n",
    "b2 = torch.zeros(num_outputs, dtype=torch.float)\n",
    "\n",
    "params = [W1, b1, W2, b2]\n",
    "for param in params:\n",
    "    param.requires_grad_(requires_grad=True)"
   ]
  },
  {
   "cell_type": "markdown",
   "id": "e0254444",
   "metadata": {},
   "source": [
    "## 3.9.3 定义激活函数\n",
    "这里使用基础的 max 函数实现 ReLU，而非直接调用 relu 函数"
   ]
  },
  {
   "cell_type": "code",
   "execution_count": 6,
   "id": "98d192c6",
   "metadata": {},
   "outputs": [],
   "source": [
    "def relu(X):\n",
    "    return torch.max(input=X, other=torch.tensor(0.0))"
   ]
  },
  {
   "cell_type": "markdown",
   "id": "eec6b66e",
   "metadata": {},
   "source": [
    "## 3.9.4 定义模型\n",
    "同softmax回归一样，通过view函数将每张原始图像改成长度为 num_inputs 的向量，然后实现多层感知机的计算表达式"
   ]
  },
  {
   "cell_type": "code",
   "execution_count": 7,
   "id": "d579ad48",
   "metadata": {},
   "outputs": [],
   "source": [
    "def net(X):\n",
    "    X = X.view((-1, num_inputs))\n",
    "    H = relu(torch.matmul(X, W1) + b1)\n",
    "    return torch.matmul(H, W2) + b2"
   ]
  },
  {
   "cell_type": "markdown",
   "id": "d7a86f9e",
   "metadata": {},
   "source": [
    "## 3.9.5 定义损失函数\n",
    "直接使用Pytorch提供的包括softmax运算和交叉熵损失计算的函数。"
   ]
  },
  {
   "cell_type": "code",
   "execution_count": 8,
   "id": "29c324d8",
   "metadata": {},
   "outputs": [],
   "source": [
    "loss = torch.nn.CrossEntropyLoss()"
   ]
  },
  {
   "cell_type": "markdown",
   "id": "138e162e",
   "metadata": {},
   "source": [
    "## 3.9.6 训练模型"
   ]
  },
  {
   "cell_type": "code",
   "execution_count": 10,
   "id": "1a8ecef1",
   "metadata": {},
   "outputs": [
    {
     "name": "stdout",
     "output_type": "stream",
     "text": [
      "epoch 1, loss 0.0014, train acc 0.869, test acc 0.834\n",
      "epoch 2, loss 0.0013, train acc 0.875, test acc 0.786\n",
      "epoch 3, loss 0.0013, train acc 0.879, test acc 0.852\n",
      "epoch 4, loss 0.0012, train acc 0.884, test acc 0.872\n",
      "epoch 5, loss 0.0012, train acc 0.886, test acc 0.867\n"
     ]
    }
   ],
   "source": [
    "num_epochs, lr = 5, 100.0\n",
    "d2l.train_ch3(net, train_iter, test_iter, loss, num_epochs, batch_size, params, lr)"
   ]
  },
  {
   "cell_type": "code",
   "execution_count": null,
   "id": "92a7059f",
   "metadata": {},
   "outputs": [],
   "source": []
  }
 ],
 "metadata": {
  "kernelspec": {
   "display_name": "Python 3",
   "language": "python",
   "name": "python3"
  },
  "language_info": {
   "codemirror_mode": {
    "name": "ipython",
    "version": 3
   },
   "file_extension": ".py",
   "mimetype": "text/x-python",
   "name": "python",
   "nbconvert_exporter": "python",
   "pygments_lexer": "ipython3",
   "version": "3.8.8"
  }
 },
 "nbformat": 4,
 "nbformat_minor": 5
}
