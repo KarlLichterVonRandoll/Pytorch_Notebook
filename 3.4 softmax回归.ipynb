{
 "cells": [
  {
   "cell_type": "markdown",
   "metadata": {},
   "source": [
    "# 3.4.1 分类问题\n",
    "使用离散数值来表示类别，例如$y_1=1，y_2=2，y_3=3$，仍然可以使用回归模型来进行建模，并将预测值就近定点化到1、2和3这三个离散值之一"
   ]
  },
  {
   "attachments": {
    "image.png": {
     "image/png": "[encoded data removed]"
    }
   },
   "cell_type": "markdown",
   "metadata": {},
   "source": [
    "# 3.4.2 softmax回归模型\n",
    "softmax回归跟线性回归一样将输入特征与权重做线性叠加。**与线性回归的一个主要区别在于，softmax回归的输出值等于标签里的类别数**，如：一共有 4种特征和 3种输出类别，所以权重包含 12个标量、偏差包含 3个标量，且对每个输入计算 $O_1,O_2,O_3$这三个输出$$$$\n",
    "$$\n",
    "O_1=x_1w_{11}+x_2w_{21}+x_3w_{31}+x_4w_{41}+b_1,\\\\\n",
    "O_1=x_1w_{12}+x_2w_{22}+x_3w_{32}+x_4w_{42}+b_2,\\\\  \n",
    "O_1=x_1w_{13}+x_2w_{23}+x_3w_{33}+x_4w_{43}+b_3,\n",
    "$$\n",
    "![image.png](attachment:image.png)\n",
    "将值最大的输出所对应的类作为预测输出，即输出 $\\underset{i}{argmax O_i}$ $$$$\n",
    "但是直接使用输出层有两个问题：一方面输出层的输出值的范围不确定，难以直观上判断这些值的意义；另一方面，由于真实标签是离散值，这些离散值与不确定范围的输出值之间的误差难以衡量。使用softmax运算符解决以上两个问题，它通过下式将输出值变换成值为正且和为 1的概率分布：\n",
    "$$\n",
    "\\hat{y_1}，\\hat{y_2}，\\hat{y_3}=softmax(O_1, O_2, O_3)\n",
    "$$其中\n",
    "$$\n",
    "    \\hat{y_1}=\\frac{exp(o_1)}{\\sum^3_{i=1}exp(o_i)},\n",
    "    \\hat{y_2}=\\frac{exp(o_2)}{\\sum^3_{i=1}exp(o_i)},\n",
    "    \\hat{y_3}=\\frac{exp(o_3)}{\\sum^3_{i=1}exp(o_i)}\n",
    "$$且\n",
    "$$\n",
    "\\underset{i}{argmax\\ o_i}=\\underset{i}{argmax\\ \\hat{y_i}}\n",
    "$$softmax运算不改变预测类别输出"
   ]
  },
  {
   "cell_type": "markdown",
   "metadata": {},
   "source": [
    "# 3.4.3 单样本分类的矢量计算表达式\n",
    "假设softmax回归的权重和偏差参数分别为\n",
    "$$\n",
    "W=\\begin{bmatrix}\n",
    " w_{11}& w_{12} & w_{13}\\\\ \n",
    " w_{21}& w_{22} & w_{23}\\\\ \n",
    " w_{31}& w_{32} & w_{33}\\\\ \n",
    " w_{41}& w_{42} & w_{43} \n",
    "\\end{bmatrix}，\n",
    "b=\\begin{bmatrix}\n",
    " b_1 & b_2 & b_3\n",
    "\\end{bmatrix}\n",
    "$$\n",
    "设高和宽分别为 2个像素的图像样本 i的特征为\n",
    "$$\n",
    "x^{(i)}=\\begin{bmatrix}\n",
    " x^{(i)}_1 & x^{(i)}_2 & x^{(i)}_3 & x^{(i)}_4\n",
    "\\end{bmatrix}\n",
    "$$\n",
    "输出层输出为\n",
    "$$\n",
    "O^{(i)}=\\begin{bmatrix}\n",
    " o^{(i)}_1 & o^{(i)}_2 & o^{(i)}_3\n",
    "\\end{bmatrix}\n",
    "$$\n",
    "预测为狗、猫或鸡的概率分布为\n",
    "$$\n",
    "\\hat{y}^{(i)}=\\begin{bmatrix}\n",
    " \\hat{y}^{(i)}_1 & \\hat{y}^{(i)}_2 & \\hat{y}^{(i)}_3\n",
    "\\end{bmatrix}\n",
    "$$\n",
    "softmax回归对样本 i分类的矢量计算表达式为\n",
    "$$\n",
    "O^{(i)}=x^{(i)}W+b \\\\\n",
    "\\hat{y}^{(i)}=softmax\\ (O^{(i)})\n",
    "$$"
   ]
  },
  {
   "cell_type": "markdown",
   "metadata": {},
   "source": [
    "# 3.4.4 小批量样本分类的矢量计算表达式\n",
    "给定一个小批量样本，批量大小为n，输入个数（特征数）为d，输出个数（类别数）为q。设批量特征为$X\\in\\mathbb{R}^{nxd}$，softmax回归的权重和偏差参数分别为$W\\in\\mathbb{R}^{dxq}$和$b\\in\\mathbb{R}^{1xq}$。softmax回归的矢量表达式为\n",
    "$$  \\\\\n",
    "O=XW+b \\\\\n",
    "\\hat{Y}=softmax(O)\n",
    "$$"
   ]
  },
  {
   "cell_type": "markdown",
   "metadata": {},
   "source": [
    "# 3.4.5 交叉熵损失函数\n",
    "用于衡量两个概率分布差异的测量函数"
   ]
  },
  {
   "cell_type": "markdown",
   "metadata": {},
   "source": [
    "# 3.4.6 模型预测及评价"
   ]
  },
  {
   "cell_type": "code",
   "execution_count": null,
   "metadata": {},
   "outputs": [],
   "source": []
  }
 ],
 "metadata": {
  "kernelspec": {
   "display_name": "Python 3",
   "language": "python",
   "name": "python3"
  },
  "language_info": {
   "codemirror_mode": {
    "name": "ipython",
    "version": 3
   },
   "file_extension": ".py",
   "mimetype": "text/x-python",
   "name": "python",
   "nbconvert_exporter": "python",
   "pygments_lexer": "ipython3",
   "version": "3.8.5"
  }
 },
 "nbformat": 4,
 "nbformat_minor": 4
}
