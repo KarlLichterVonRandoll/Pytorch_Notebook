{
 "cells": [
  {
   "cell_type": "code",
   "execution_count": 1,
   "metadata": {},
   "outputs": [],
   "source": [
    "#%matplotlib inline\n",
    "import torch\n",
    "from IPython import display\n",
    "from matplotlib import pyplot as plt\n",
    "import numpy as np\n",
    "import random"
   ]
  },
  {
   "cell_type": "markdown",
   "metadata": {},
   "source": [
    "### 3.2.1 生成数据集\n",
    "训练集样本为 1000，输入个数（特征数）为 2，线性回归模型真实权重 $w = [2, -3.4]$ 和偏差 $b=4.2$，以及一个随机的噪声项 $\\epsilon$ $$$$\n",
    "$$y = Xw+b+\\epsilon$$"
   ]
  },
  {
   "cell_type": "code",
   "execution_count": 2,
   "metadata": {},
   "outputs": [
    {
     "name": "stdout",
     "output_type": "stream",
     "text": [
      "下面生成数据集：\n",
      "\n",
      "tensor([ 0.2460, -0.6750]) tensor(6.9843)\n"
     ]
    }
   ],
   "source": [
    "print(\"下面生成数据集：\\n\")\n",
    "\n",
    "num_inputs = 2\n",
    "num_examples = 1000\n",
    "true_w = [2, -3.4]\n",
    "true_b = 4.2\n",
    "features = torch.randn(num_examples, num_inputs,\n",
    "                       dtype=torch.float32)\n",
    "labels = true_w[0] * features[:, 0] + true_w[1] * features[:, 1] + true_b\n",
    "# 加入噪声项，服从均值为0、标准差为0.01的正态分布\n",
    "labels += torch.tensor(np.random.normal(0, 0.01, size=labels.size()),\n",
    "                       dtype=torch.float32)\n",
    "print(features[0], labels[0])"
   ]
  },
  {
   "cell_type": "code",
   "execution_count": 3,
   "metadata": {},
   "outputs": [
    {
     "name": "stdout",
     "output_type": "stream",
     "text": [
      "通过生成第二个特征和标签的散点图，观察两者间的线性关系\n"
     ]
    }
   ],
   "source": [
    "print(\"通过生成第二个特征和标签的散点图，观察两者间的线性关系\")\n",
    "def use_svg_display():\n",
    "    # 用矢量图显示\n",
    "    display.set_matplotlib_formats('svg')\n",
    "    \n",
    "def set_figsize(figsize=(3.5, 2.5)):\n",
    "    use_svg_display()\n",
    "    # 设置图的尺寸\n",
    "    plt.rcParams['figure.figsize'] = figsize\n",
    "    \n",
    "#set_figsize()\n",
    "#plt.scatter(features[:, 1].numpy(), labels.numpy(), 1)"
   ]
  },
  {
   "cell_type": "markdown",
   "metadata": {},
   "source": [
    "### 3.2.2 读取数据\n",
    "定义一个函数，每次返回一个 batch_size 的随机样本的特征和标签"
   ]
  },
  {
   "cell_type": "code",
   "execution_count": 4,
   "metadata": {},
   "outputs": [],
   "source": [
    "def data_iter(batch_size, features, labels):\n",
    "    num_examples = len(features)\n",
    "    indices = list(range(num_examples))\n",
    "    random.shuffle(indices)\n",
    "    for i in range(0, num_examples, batch_size):\n",
    "        j = torch.LongTensor(indices[i: min(i+batch_size, num_examples)])\n",
    "        yield features.index_select(0, j), labels.index_select(0, j)"
   ]
  },
  {
   "cell_type": "code",
   "execution_count": 5,
   "metadata": {},
   "outputs": [
    {
     "name": "stdout",
     "output_type": "stream",
     "text": [
      "读取第一个小批量的数据样本并打印，每个样本形状为（10， 2）\n",
      "\n",
      "tensor([[-0.3836,  0.6488],\n",
      "        [-0.1642,  0.9719],\n",
      "        [ 0.7399, -0.3281],\n",
      "        [-0.2524,  0.4114],\n",
      "        [ 0.1905,  1.3425],\n",
      "        [-0.6931, -0.3858],\n",
      "        [ 0.4914,  1.1642],\n",
      "        [-1.0843,  0.3776],\n",
      "        [-0.9980, -2.0048],\n",
      "        [-1.3376, -0.2638]]) tensor([1.2217, 0.5771, 6.7937, 2.3090, 0.0119, 4.1270, 1.2223, 0.7297, 9.0266,\n",
      "        2.4165])\n"
     ]
    }
   ],
   "source": [
    "print(\"读取第一个小批量的数据样本并打印，每个样本形状为（10， 2）\\n\")\n",
    "batch_size = 10\n",
    "\n",
    "for X, y in data_iter(batch_size, features, labels):\n",
    "    print(X, y)\n",
    "    break"
   ]
  },
  {
   "cell_type": "markdown",
   "metadata": {},
   "source": [
    "### 3.2.3 初始化参数模型"
   ]
  },
  {
   "cell_type": "code",
   "execution_count": 6,
   "metadata": {},
   "outputs": [
    {
     "name": "stdout",
     "output_type": "stream",
     "text": [
      "都初始化为均值为 0， 标准差为 0.01的正态随机数，偏差初始为 0\n",
      "\n"
     ]
    },
    {
     "data": {
      "text/plain": [
       "tensor([0.], requires_grad=True)"
      ]
     },
     "execution_count": 6,
     "metadata": {},
     "output_type": "execute_result"
    }
   ],
   "source": [
    "print(\"都初始化为均值为 0， 标准差为 0.01的正态随机数，偏差初始为 0\\n\")\n",
    "\n",
    "w = torch.tensor(np.random.normal(0, 0.01, (num_inputs, 1)), dtype=torch.float32)\n",
    "b = torch.zeros(1, dtype=torch.float32)\n",
    "\n",
    "# 之后模型训练中，需要对这些参数求梯度来迭代参数的值，需要设置 requires_grad=True\n",
    "w.requires_grad_(requires_grad=True)\n",
    "b.requires_grad_(requires_grad=True)"
   ]
  },
  {
   "cell_type": "markdown",
   "metadata": {},
   "source": [
    "### 3.2.4 定义模型"
   ]
  },
  {
   "cell_type": "code",
   "execution_count": 7,
   "metadata": {},
   "outputs": [],
   "source": [
    "def linreg(X, w, b):\n",
    "    # 使用 mm 函数做矩阵乘法\n",
    "    return torch.mm(X, w) + b"
   ]
  },
  {
   "cell_type": "markdown",
   "metadata": {},
   "source": [
    "### 3.2.5 定义损失函数"
   ]
  },
  {
   "cell_type": "code",
   "execution_count": 8,
   "metadata": {},
   "outputs": [
    {
     "name": "stdout",
     "output_type": "stream",
     "text": [
      "使用平方损失来定义损失函数\n",
      "\n"
     ]
    }
   ],
   "source": [
    "print(\"使用平方损失来定义损失函数\\n\")\n",
    "def squared_loss(y_hat, y):\n",
    "    return (y_hat - y.view(y_hat.size())) ** 2 / 2"
   ]
  },
  {
   "cell_type": "markdown",
   "metadata": {},
   "source": [
    "### 3.2.6 定义优化算法"
   ]
  },
  {
   "cell_type": "code",
   "execution_count": 10,
   "metadata": {},
   "outputs": [],
   "source": [
    "def sgd(params, lr, batch_size):\n",
    "    for param in params:\n",
    "        # 这里更改param时用的是param.data\n",
    "        param.data -= lr * param.grad / batch_size "
   ]
  },
  {
   "cell_type": "markdown",
   "metadata": {},
   "source": [
    "### 3.2.7 训练模型"
   ]
  },
  {
   "cell_type": "code",
   "execution_count": 12,
   "metadata": {},
   "outputs": [
    {
     "name": "stdout",
     "output_type": "stream",
     "text": [
      "epoch 1, loss 0.033419\n",
      "epoch 2, loss 0.000124\n",
      "epoch 3, loss 0.000050\n"
     ]
    }
   ],
   "source": [
    "lr = 0.03\n",
    "num_epochs = 3\n",
    "net = linreg\n",
    "loss = squared_loss\n",
    "\n",
    "\n",
    "for epoch in range(num_epochs):\n",
    "    for X, y in data_iter(batch_size, features, labels):\n",
    "        l = loss(net(X, w, b), y).sum()\n",
    "        l.backward()\n",
    "        sgd([w, b], lr, batch_size)\n",
    "        \n",
    "        # don't forget 梯度清零\n",
    "        w.grad.data.zero_()\n",
    "        b.grad.data.zero_()\n",
    "    train_l = loss(net(features, w, b), labels)\n",
    "    print('epoch %d, loss %f' %(epoch+1, train_l.mean().item()))"
   ]
  },
  {
   "cell_type": "code",
   "execution_count": 14,
   "metadata": {},
   "outputs": [
    {
     "name": "stdout",
     "output_type": "stream",
     "text": [
      "对比一下学到的参数和真实的参数\n",
      "\n",
      "[2, -3.4] \n",
      " tensor([[ 1.9995],\n",
      "        [-3.3999]], requires_grad=True)\n",
      "4.2 \n",
      " tensor([4.2006], requires_grad=True)\n"
     ]
    }
   ],
   "source": [
    "print(\"对比一下学到的参数和真实的参数\\n\")\n",
    "print(true_w, '\\n', w)\n",
    "print(true_b, '\\n', b)"
   ]
  },
  {
   "cell_type": "code",
   "execution_count": null,
   "metadata": {},
   "outputs": [],
   "source": []
  }
 ],
 "metadata": {
  "kernelspec": {
   "display_name": "Python 3",
   "language": "python",
   "name": "python3"
  },
  "language_info": {
   "codemirror_mode": {
    "name": "ipython",
    "version": 3
   },
   "file_extension": ".py",
   "mimetype": "text/x-python",
   "name": "python",
   "nbconvert_exporter": "python",
   "pygments_lexer": "ipython3",
   "version": "3.8.5"
  }
 },
 "nbformat": 4,
 "nbformat_minor": 4
}
