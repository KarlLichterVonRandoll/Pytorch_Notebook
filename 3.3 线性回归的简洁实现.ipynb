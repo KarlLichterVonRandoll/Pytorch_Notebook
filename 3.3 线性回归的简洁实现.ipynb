{
 "cells": [
  {
   "cell_type": "markdown",
   "metadata": {},
   "source": [
    "# 3.3.1 生成数据集"
   ]
  },
  {
   "cell_type": "code",
   "execution_count": 1,
   "metadata": {},
   "outputs": [],
   "source": [
    "import torch\n",
    "import numpy as np\n",
    "\n",
    "num_inputs = 2\n",
    "num_examples = 1000\n",
    "true_w = [2, -3.4]\n",
    "true_b = 4.2\n",
    "features = torch.tensor(np.random.normal(0, 1, (num_examples, num_inputs)), dtype=torch.float)\n",
    "labels = true_w[0] * features[:, 0] + true_w[1] * features[:, 1] + true_b\n",
    "labels += torch.tensor(np.random.normal(0, 0.01, size=labels.size()), dtype=torch.float)"
   ]
  },
  {
   "cell_type": "markdown",
   "metadata": {},
   "source": [
    "# 3.3.2 读取数据\n",
    "pytorch提供data包读取数据，每次迭代中，随机读取包含10个数据样本的小批量"
   ]
  },
  {
   "cell_type": "code",
   "execution_count": 2,
   "metadata": {},
   "outputs": [
    {
     "name": "stdout",
     "output_type": "stream",
     "text": [
      "这里的data_iter可以让我们读取并打印第一个小批量数据样本\n",
      "tensor([[ 0.8948, -0.7860],\n",
      "        [ 0.5317,  0.7145],\n",
      "        [-0.4846,  0.7632],\n",
      "        [-0.8772,  1.8602],\n",
      "        [ 0.1564,  2.1424],\n",
      "        [-1.2207,  1.5772],\n",
      "        [-1.8153,  0.5119],\n",
      "        [ 0.4763,  0.8826],\n",
      "        [-0.8467, -1.0120],\n",
      "        [ 1.4520,  0.0541]]) tensor([ 8.6572,  2.8513,  0.6372, -3.8756, -2.7882, -3.5887, -1.1709,  2.1485,\n",
      "         5.9524,  6.9147])\n"
     ]
    }
   ],
   "source": [
    "import torch.utils.data as Data\n",
    "\n",
    "batch_size = 10\n",
    "# 将训练数据的特征和标签组合\n",
    "dataset = Data.TensorDataset(features, labels)\n",
    "# 随机读取小批量\n",
    "data_iter = Data.DataLoader(dataset, batch_size, shuffle=True)\n",
    "print(\"这里的data_iter可以让我们读取并打印第一个小批量数据样本\")\n",
    "\n",
    "for X, y in data_iter:\n",
    "    print(X, y)\n",
    "    break"
   ]
  },
  {
   "cell_type": "markdown",
   "metadata": {},
   "source": [
    "# 3.3.3 定义模型\n",
    "pytorch提供了大量预定义的层，使我们只需关注使用那些层来构造模型。需要导入torch.nn模块，该模块定义了大量神经网络的层，而nn就是利用autograd来定义模型的。nn的核心数据结构是Module，它既可以表示神经网络的某个层，也可以表示一个包含很多层的神经网络。实际使用中，最常用的做法就是继承nn.Module。  \n",
    "一个nn.Module的实例应该包含一些层以及返回输出的前向传播（forward）方法。"
   ]
  },
  {
   "cell_type": "code",
   "execution_count": 3,
   "metadata": {},
   "outputs": [
    {
     "name": "stdout",
     "output_type": "stream",
     "text": [
      "LinearNet(\n",
      "  (linear): Linear(in_features=2, out_features=1, bias=True)\n",
      ")\n"
     ]
    }
   ],
   "source": [
    "# 使用nn.Module实现一个线性回归模型\n",
    "import torch.nn as nn\n",
    "\n",
    "class LinearNet(nn.Module):\n",
    "    def __init__(self, n_feature):\n",
    "        super(LinearNet, self).__init__()\n",
    "        self.linear = nn.Linear(n_feature, 1)\n",
    "    # forward 定义前向传播\n",
    "    def forward(self, x):\n",
    "        y = self.linear(x)\n",
    "        return y\n",
    "    \n",
    "net = LinearNet(num_inputs)\n",
    "print(net)"
   ]
  },
  {
   "cell_type": "markdown",
   "metadata": {},
   "source": [
    "另外还可以使用 nn.Sequential 更加方便搭建网络，Sequential是一个有序的容器，网络层将按照在传入Sequential的顺序依次被添加到计算图中"
   ]
  },
  {
   "cell_type": "code",
   "execution_count": 4,
   "metadata": {},
   "outputs": [
    {
     "name": "stdout",
     "output_type": "stream",
     "text": [
      "Sequential(\n",
      "  (linear): Linear(in_features=2, out_features=1, bias=True)\n",
      ")\n",
      "Linear(in_features=2, out_features=1, bias=True)\n"
     ]
    }
   ],
   "source": [
    "# 写法一\n",
    "net = nn.Sequential(\n",
    "    nn.Linear(num_inputs, 1)\n",
    "    # 此处还可以传入其他层\n",
    ")\n",
    "\n",
    "# 写法二\n",
    "net = nn.Sequential()\n",
    "net.add_module('linear', nn.Linear(num_inputs, 1))\n",
    "# net.add_module ......\n",
    "\n",
    "# 写法三\n",
    "from collections import OrderedDict\n",
    "\n",
    "net = nn.Sequential(OrderedDict([\n",
    "          ('linear', nn.Linear(num_inputs, 1))\n",
    "          # ......\n",
    "]))\n",
    "\n",
    "print(net)\n",
    "print(net[0])"
   ]
  },
  {
   "cell_type": "code",
   "execution_count": 5,
   "metadata": {},
   "outputs": [
    {
     "name": "stdout",
     "output_type": "stream",
     "text": [
      "通过net.parameters()来查看模型所有可学习的参数，此函数返回一个生成器\n",
      "Parameter containing:\n",
      "tensor([[-0.2233, -0.5545]], requires_grad=True)\n",
      "Parameter containing:\n",
      "tensor([-0.2917], requires_grad=True)\n"
     ]
    }
   ],
   "source": [
    "print(\"通过net.parameters()来查看模型所有可学习的参数，此函数返回一个生成器\")\n",
    "\n",
    "for param in net.parameters():\n",
    "    print(param)"
   ]
  },
  {
   "cell_type": "markdown",
   "metadata": {},
   "source": [
    "## 注意：torch.nn仅支持输入一个batch的样本不支持单个样本输入，要输入单个样本，可使用input.unsqueeze(0)来添加一维"
   ]
  },
  {
   "cell_type": "markdown",
   "metadata": {},
   "source": [
    "# 3.3.4 初始化模型参数\n",
    "pytorch在 init 模块中提供了多种参数初始化方法"
   ]
  },
  {
   "cell_type": "code",
   "execution_count": 6,
   "metadata": {},
   "outputs": [
    {
     "data": {
      "text/plain": [
       "Parameter containing:\n",
       "tensor([0.], requires_grad=True)"
      ]
     },
     "execution_count": 6,
     "metadata": {},
     "output_type": "execute_result"
    }
   ],
   "source": [
    "from torch.nn import init\n",
    "\n",
    "# import torch.nn as nn\n",
    "\n",
    "# class LinearNet(nn.Module):\n",
    "#     def __init__(self, n_feature):\n",
    "#         super(LinearNet, self).__init__()\n",
    "#         self.linear = nn.Linear(n_feature, 1)\n",
    "#     # forward 定义前向传播\n",
    "#     def forward(self, x):\n",
    "#         y = self.linear(x)\n",
    "#         return y\n",
    "    \n",
    "# net = LinearNet(num_inputs)\n",
    "\n",
    "init.normal_(net[0].weight, mean=0, std=0.01) # 将权重的每个参数初始化为均值为 0，标准差为 0.01的正态分布，偏差初始化为 0\n",
    "init.constant_(net[0].bias, val=0) # 也可以直接修改bias的data：net[0].bias.data.fill_(0)"
   ]
  },
  {
   "cell_type": "markdown",
   "metadata": {},
   "source": [
    "### 注：如果这里的 net是用自定义继承nn.Module类的方法创建的，上面的代码会报错，net[0].weight应改为 net.linear.weight，bias 也是，net[0]这样根据下标访问子模块的写法只有当 net是一个 ModuleList或者 Sequential实例才可以"
   ]
  },
  {
   "cell_type": "markdown",
   "metadata": {},
   "source": [
    "# 3.3.5 定义损失函数\n",
    "nn模块中定义各种损失函数，可看做是特殊的层，pytorch也将这些损失函数实现为nn.Module的子类"
   ]
  },
  {
   "cell_type": "code",
   "execution_count": 7,
   "metadata": {},
   "outputs": [],
   "source": [
    "loss = nn.MSELoss() # 使用均方误差作为模型的损失函数"
   ]
  },
  {
   "cell_type": "markdown",
   "metadata": {},
   "source": [
    "# 3.3.6 定义优化算法\n",
    "torch.optim模块提供很多常用的优化算法如 SGD、Adam和RMSProp"
   ]
  },
  {
   "cell_type": "code",
   "execution_count": 8,
   "metadata": {},
   "outputs": [
    {
     "name": "stdout",
     "output_type": "stream",
     "text": [
      "下面创建一个用于优化net所有参数的优化器实例，并指定学习率为0.03的小批量 SGD为优化算法\n",
      "SGD (\n",
      "Parameter Group 0\n",
      "    dampening: 0\n",
      "    lr: 0.03\n",
      "    momentum: 0\n",
      "    nesterov: False\n",
      "    weight_decay: 0\n",
      ")\n"
     ]
    }
   ],
   "source": [
    "print(\"下面创建一个用于优化net所有参数的优化器实例，并指定学习率为0.03的小批量 SGD为优化算法\")\n",
    "import torch.optim as optim\n",
    "\n",
    "optimizer = optim.SGD(net.parameters(), lr=0.03)\n",
    "print(optimizer)"
   ]
  },
  {
   "cell_type": "code",
   "execution_count": 9,
   "metadata": {},
   "outputs": [
    {
     "name": "stdout",
     "output_type": "stream",
     "text": [
      "可以为不同子网络设置不同的学习率，在finetune时经常用到\n"
     ]
    }
   ],
   "source": [
    "print(\"可以为不同子网络设置不同的学习率，在finetune时经常用到\")\n",
    "# optimizer = optim.SGD([\n",
    "#     # 如果对某个参数不指定学习率，就使用最外层的默认学习率\n",
    "#     {'params': net.subnet1.parameters()}, # lr=0.03\n",
    "#     {'params': net.subnet2.parameters(), 'lr':0.01}\n",
    "# ], lr=0.03)"
   ]
  },
  {
   "cell_type": "markdown",
   "metadata": {},
   "source": [
    "如果不想让学习率固定为一个常数，那么如何调整？一种是修改 optimizer.param_groups中对应的学习率，另一种是——新建优化器，optimizer比较轻量级，开销很小，可以构建新的optimizer。但是后者对于使用动量的优化器（如Adam），会丢失动量等状态信息，可能造成损失函数的收敛出现震荡"
   ]
  },
  {
   "cell_type": "code",
   "execution_count": 10,
   "metadata": {},
   "outputs": [],
   "source": [
    "# 调整学习率\n",
    "for param_group in optimizer.param_groups:\n",
    "    param_group['lr'] *= 0.1"
   ]
  },
  {
   "cell_type": "markdown",
   "metadata": {},
   "source": [
    "# 3.3.7 训练模型\n",
    "通过调用 optim实例的 step函数迭代模型参数，按照小批量随机梯度下降的定义，在 step函数中指明批量大小，从而对批量中样本梯度求平均。"
   ]
  },
  {
   "cell_type": "code",
   "execution_count": 15,
   "metadata": {},
   "outputs": [
    {
     "name": "stdout",
     "output_type": "stream",
     "text": [
      "epoch 1, loss: 0.004242\n",
      "epoch 2, loss: 0.002600\n",
      "epoch 3, loss: 0.000624\n"
     ]
    }
   ],
   "source": [
    "num_epochs = 3\n",
    "\n",
    "for epoch in range(1, num_epochs+1):\n",
    "    for X, y in data_iter:\n",
    "        output = net(X)\n",
    "        l = loss(output, y.view(-1, 1))\n",
    "        optimizer.zero_grad() # 梯度清零，等价于net.zero_grad()\n",
    "        #net.zero_grad()\n",
    "        l.backward()\n",
    "        optimizer.step()\n",
    "    print('epoch %d, loss: %f' %(epoch, l.item()))"
   ]
  },
  {
   "cell_type": "code",
   "execution_count": 16,
   "metadata": {},
   "outputs": [
    {
     "name": "stdout",
     "output_type": "stream",
     "text": [
      "比较学到的模型参数和真实参数\n",
      "[2, -3.4] Parameter containing:\n",
      "tensor([[ 1.9991, -3.3830]], requires_grad=True)\n",
      "4.2 Parameter containing:\n",
      "tensor([4.1825], requires_grad=True)\n"
     ]
    }
   ],
   "source": [
    "print(\"比较学到的模型参数和真实参数\")\n",
    "dense = net[0]\n",
    "print(true_w, dense.weight)\n",
    "print(true_b, dense.bias)"
   ]
  },
  {
   "cell_type": "code",
   "execution_count": null,
   "metadata": {},
   "outputs": [],
   "source": []
  }
 ],
 "metadata": {
  "kernelspec": {
   "display_name": "Python 3",
   "language": "python",
   "name": "python3"
  },
  "language_info": {
   "codemirror_mode": {
    "name": "ipython",
    "version": 3
   },
   "file_extension": ".py",
   "mimetype": "text/x-python",
   "name": "python",
   "nbconvert_exporter": "python",
   "pygments_lexer": "ipython3",
   "version": "3.8.5"
  }
 },
 "nbformat": 4,
 "nbformat_minor": 4
}
